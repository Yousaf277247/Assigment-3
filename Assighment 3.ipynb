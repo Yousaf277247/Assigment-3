{
 "cells": [
  {
   "cell_type": "code",
   "execution_count": 8,
   "id": "5a23be60",
   "metadata": {},
   "outputs": [
    {
     "name": "stdout",
     "output_type": "stream",
     "text": [
      "twinkle, twinkle,little star\n",
      "         How I wonder what,you are!\n",
      "               Up above the world so high,\n",
      "               Like adaimond in the sky,\n",
      "Twinkle, twinkle,little star\n",
      "         How I wonder what,you are! \n"
     ]
    }
   ],
   "source": [
    "print('twinkle, twinkle,little star\\n         How I wonder what,you are!\\n               Up above the world so high,\\n               Like adaimond in the sky,\\nTwinkle, twinkle,little star\\n         How I wonder what,you are! ')"
   ]
  },
  {
   "cell_type": "code",
   "execution_count": 13,
   "id": "17304936",
   "metadata": {},
   "outputs": [
    {
     "name": "stdout",
     "output_type": "stream",
     "text": [
      "2021-10-22 11:09:02.081394\n"
     ]
    }
   ],
   "source": [
    "import datetime\n",
    "\n",
    "x = datetime.datetime.now()\n",
    "print(x)"
   ]
  },
  {
   "cell_type": "code",
   "execution_count": 14,
   "id": "2d432699",
   "metadata": {},
   "outputs": [
    {
     "name": "stdout",
     "output_type": "stream",
     "text": [
      "Enter Marks Obtained in 5 Subjects: \n",
      "70\n",
      "50\n",
      "65\n",
      "65\n",
      "55\n",
      "Your Grade is B\n"
     ]
    }
   ],
   "source": [
    "print(\"Enter Marks Obtained in 5 Subjects: \")\n",
    "markOne = int(input())\n",
    "markTwo = int(input())\n",
    "markThree = int(input())\n",
    "markFour = int(input())\n",
    "markFive = int(input())\n",
    "\n",
    "tot = markOne+markTwo+markThree+markFour+markFive\n",
    "avg = tot/5\n",
    "\n",
    "if avg>=80 and avg<=100:\n",
    "    print(\"Your Grade is A1\")\n",
    "elif avg>=70 and avg<80:\n",
    "    print(\"Your Grade is A\")\n",
    "elif avg>=60 and avg<70:\n",
    "    print(\"Your Grade is B\")\n",
    "elif avg>=50 and avg<60:\n",
    "    print(\"Your Grade is C\")\n",
    "elif avg>=40 and avg<50:\n",
    "    print(\"Your Grade is D\")\n",
    "else:\n",
    "    print(\"faild\")"
   ]
  },
  {
   "cell_type": "code",
   "execution_count": 4,
   "id": "008b0b81",
   "metadata": {},
   "outputs": [
    {
     "name": "stdout",
     "output_type": "stream",
     "text": [
      "Python version\n",
      "3.8.8 (default, Apr 13 2021, 15:08:03) [MSC v.1916 64 bit (AMD64)]\n",
      "Version info.\n",
      "sys.version_info(major=3, minor=8, micro=8, releaselevel='final', serial=0)\n"
     ]
    }
   ],
   "source": [
    "import sys\n",
    "print(\"Python version\")\n",
    "print (sys.version)\n",
    "print(\"Version info.\")\n",
    "print (sys.version_info)"
   ]
  },
  {
   "cell_type": "code",
   "execution_count": 8,
   "id": "59d3faf7",
   "metadata": {},
   "outputs": [
    {
     "name": "stdout",
     "output_type": "stream",
     "text": [
      "enter first number: 2\n",
      "enter second number: 2\n",
      "sum: 4\n"
     ]
    }
   ],
   "source": [
    "a = int(input(\"enter first number: \"))\n",
    "b = int(input(\"enter second number: \"))\n",
    "sum = a + b\n",
    "print(\"sum:\", sum)"
   ]
  },
  {
   "cell_type": "code",
   "execution_count": 1,
   "id": "9f38fc5e",
   "metadata": {},
   "outputs": [
    {
     "name": "stdout",
     "output_type": "stream",
     "text": [
      "enter First Name : Yousaf Nawaz\n",
      "enter Last Name : Khan\n",
      "Hello  Khan Yousaf Nawaz\n"
     ]
    }
   ],
   "source": [
    "fname = input(\"enter First Name : \")\n",
    "lname = input(\"enter Last Name : \")\n",
    "print (\"Hello  \" + lname + \" \" + fname)"
   ]
  },
  {
   "cell_type": "code",
   "execution_count": 1,
   "id": "e3c00095",
   "metadata": {},
   "outputs": [
    {
     "name": "stdout",
     "output_type": "stream",
     "text": [
      "Enter a number: 2\n",
      "2 is Even number\n"
     ]
    }
   ],
   "source": [
    "num = int(input(\"Enter a number: \"))  \n",
    "if (num % 2) == 0:  \n",
    "   print(\"{0} is Even number\".format(num))  \n",
    "else:  \n",
    "   print(\"{0} is Odd number\".format(num)) "
   ]
  },
  {
   "cell_type": "code",
   "execution_count": 2,
   "id": "465742e6",
   "metadata": {},
   "outputs": [
    {
     "name": "stdout",
     "output_type": "stream",
     "text": [
      "List :  [1, 4, 5, 7, 8]\n",
      "Length of list using naive method is :  5\n"
     ]
    }
   ],
   "source": [
    "#length of list\n",
    "#using loop\n",
    "\n",
    "#function\n",
    "def list_length(list):\n",
    "    counter=0\n",
    "    for i in list:\n",
    "        counter=counter+1   \n",
    "    return counter\n",
    "\n",
    "# Initializing list \n",
    "li = [ 1, 4, 5, 7, 8 ]\n",
    "  \n",
    "# Printing list\n",
    "print (\"List : \",li)\n",
    " \n",
    "# Printing length of list \n",
    "print (\"Length of list using naive method is : \",list_length(li))"
   ]
  },
  {
   "cell_type": "code",
   "execution_count": 1,
   "id": "febdbb7b",
   "metadata": {},
   "outputs": [
    {
     "name": "stdout",
     "output_type": "stream",
     "text": [
      "How many numbers: 5\n",
      "Enter number 80\n",
      "Enter number 45\n",
      "Enter number 55\n",
      "Enter number 55\n",
      "Enter number 44\n",
      "Sum of elements in given list is : 279\n"
     ]
    }
   ],
   "source": [
    "lst = []\n",
    "num = int(input('How many numbers: '))\n",
    "for n in range(num):\n",
    "    numbers = int(input('Enter number '))\n",
    "    lst.append(numbers)\n",
    "print(\"Sum of elements in given list is :\", sum(lst))"
   ]
  },
  {
   "cell_type": "code",
   "execution_count": 2,
   "id": "b2997476",
   "metadata": {},
   "outputs": [
    {
     "name": "stdout",
     "output_type": "stream",
     "text": [
      "2\n"
     ]
    }
   ],
   "source": [
    "def max_num_in_list( list ):\n",
    "    max = list[ 0 ]\n",
    "    for a in list:\n",
    "        if a > max:\n",
    "            max = a\n",
    "    return max\n",
    "print(max_num_in_list([1, 2, -8, 0]))\n"
   ]
  },
  {
   "cell_type": "code",
   "execution_count": 3,
   "id": "43d8603e",
   "metadata": {},
   "outputs": [
    {
     "name": "stdout",
     "output_type": "stream",
     "text": [
      "1\n",
      "1\n",
      "2\n",
      "3\n"
     ]
    }
   ],
   "source": [
    "a = [1, 1, 2, 3, 5, 8, 13, 21, 34, 55, 89]\n",
    "\n",
    "for i in a:\n",
    "\n",
    "    if i < 5:\n",
    "\n",
    "        print(i)"
   ]
  },
  {
   "cell_type": "code",
   "execution_count": null,
   "id": "fdbc34f5",
   "metadata": {},
   "outputs": [],
   "source": []
  }
 ],
 "metadata": {
  "kernelspec": {
   "display_name": "Python 3",
   "language": "python",
   "name": "python3"
  },
  "language_info": {
   "codemirror_mode": {
    "name": "ipython",
    "version": 3
   },
   "file_extension": ".py",
   "mimetype": "text/x-python",
   "name": "python",
   "nbconvert_exporter": "python",
   "pygments_lexer": "ipython3",
   "version": "3.8.8"
  }
 },
 "nbformat": 4,
 "nbformat_minor": 5
}
